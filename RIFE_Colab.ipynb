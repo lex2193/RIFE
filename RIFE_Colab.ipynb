{
  "nbformat": 4,
  "nbformat_minor": 0,
  "metadata": {
    "colab": {
      "name": "RIFE_Colab.ipynb",
      "provenance": [],
      "collapsed_sections": []
    },
    "kernelspec": {
      "name": "python3",
      "display_name": "Python 3"
    },
    "accelerator": "GPU"
  },
  "cells": [
    {
      "cell_type": "code",
      "metadata": {
        "id": "dnLn4aHHPzN3"
      },
      "source": [
        "!nvidia-smi"
      ],
      "execution_count": null,
      "outputs": []
    },
    {
      "cell_type": "code",
      "metadata": {
        "id": "g7FngskWYEN3"
      },
      "source": [
        "from google.colab import drive\r\n",
        "drive.mount('/content/gdrive')"
      ],
      "execution_count": null,
      "outputs": []
    },
    {
      "cell_type": "code",
      "metadata": {
        "id": "FypCcZkNNt2p"
      },
      "source": [
        "!git clone https://github.com/lex2193/RIFE"
      ],
      "execution_count": null,
      "outputs": []
    },
    {
      "cell_type": "code",
      "metadata": {
        "id": "AhbHfRBJRAUt"
      },
      "source": [
        "%cd /content/RIFE/\n",
        "!pip3 install -r requirements.txt"
      ],
      "execution_count": null,
      "outputs": []
    },
    {
      "cell_type": "code",
      "metadata": {
        "id": "mgFVCfU5ZCJO"
      },
      "source": [
        "!cp /content/gdrive/MyDrive/video.mp4 /content/RIFE/video.mp4"
      ],
      "execution_count": 32,
      "outputs": []
    },
    {
      "cell_type": "code",
      "metadata": {
        "colab": {
          "base_uri": "https://localhost:8080/"
        },
        "id": "vP1weka1WvVx",
        "outputId": "c54c0224-797c-40ce-cf52-87e3b9d9d8f8"
      },
      "source": [
        "!python3 inference_video.py --exp=1 --video=video.mp4"
      ],
      "execution_count": null,
      "outputs": [
        {
          "output_type": "stream",
          "text": [
            "video.mp4, 29987.0 frames in total, 30.0FPS to 60.0FPS\n",
            "The audio will be merged after interpolation process\n",
            " 15% 4351/29987.0 [05:43<34:11, 12.50it/s]"
          ],
          "name": "stdout"
        }
      ]
    },
    {
      "cell_type": "code",
      "metadata": {
        "id": "fHauujcgZY9s"
      },
      "source": [
        "!cp /content/RIFE/video_*X_*fps.mp4 /content/gdrive/MyDrive/video_2X.mp4"
      ],
      "execution_count": null,
      "outputs": []
    }
  ]
}